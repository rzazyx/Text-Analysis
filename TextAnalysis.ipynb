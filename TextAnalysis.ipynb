{
  "nbformat": 4,
  "nbformat_minor": 0,
  "metadata": {
    "colab": {
      "provenance": [],
      "authorship_tag": "ABX9TyNyoRyhvPPaZZ6h8MAv6mdK",
      "include_colab_link": true
    },
    "kernelspec": {
      "name": "python3",
      "display_name": "Python 3"
    },
    "language_info": {
      "name": "python"
    }
  },
  "cells": [
    {
      "cell_type": "markdown",
      "metadata": {
        "id": "view-in-github",
        "colab_type": "text"
      },
      "source": [
        "<a href=\"https://colab.research.google.com/github/rzazyx/Text-Analysis/blob/main/TextAnalysis.ipynb\" target=\"_parent\"><img src=\"https://colab.research.google.com/assets/colab-badge.svg\" alt=\"Open In Colab\"/></a>"
      ]
    },
    {
      "cell_type": "code",
      "execution_count": 1,
      "metadata": {
        "id": "UbAFMfkhw5Tq"
      },
      "outputs": [],
      "source": [
        "import re"
      ]
    },
    {
      "cell_type": "code",
      "source": [
        "re.match(r'\\b\\w{5}\\b', 'Andri and Fatia')"
      ],
      "metadata": {
        "colab": {
          "base_uri": "https://localhost:8080/"
        },
        "id": "JzZKchC9w7js",
        "outputId": "2a985122-df99-464a-8adb-82815781c213"
      },
      "execution_count": 2,
      "outputs": [
        {
          "output_type": "execute_result",
          "data": {
            "text/plain": [
              "<re.Match object; span=(0, 5), match='Andri'>"
            ]
          },
          "metadata": {},
          "execution_count": 2
        }
      ]
    },
    {
      "cell_type": "code",
      "source": [
        "re.search(r'\\b\\w{5}\\b', 'Andri and Fatia')"
      ],
      "metadata": {
        "colab": {
          "base_uri": "https://localhost:8080/"
        },
        "id": "BeklfxnDxDU5",
        "outputId": "0f203fe6-c7fc-405d-e729-18f03ef0d894"
      },
      "execution_count": 3,
      "outputs": [
        {
          "output_type": "execute_result",
          "data": {
            "text/plain": [
              "<re.Match object; span=(0, 5), match='Andri'>"
            ]
          },
          "metadata": {},
          "execution_count": 3
        }
      ]
    },
    {
      "cell_type": "code",
      "source": [
        "re.findall(r'\\b\\w{5}\\b', 'Andri and Fatia')"
      ],
      "metadata": {
        "colab": {
          "base_uri": "https://localhost:8080/"
        },
        "id": "DLzzJ1ncxJOR",
        "outputId": "a0114559-f8f5-4091-ec17-a290faff8a30"
      },
      "execution_count": 4,
      "outputs": [
        {
          "output_type": "execute_result",
          "data": {
            "text/plain": [
              "['Andri', 'Fatia']"
            ]
          },
          "metadata": {},
          "execution_count": 4
        }
      ]
    },
    {
      "cell_type": "code",
      "source": [
        "s = \"User's mobile number is 123456789\"\n",
        "s_hide = re.sub('\\d', '*', s)\n",
        "print(s_hide)\n"
      ],
      "metadata": {
        "colab": {
          "base_uri": "https://localhost:8080/"
        },
        "id": "GdIPgu0nxOIi",
        "outputId": "94133b79-d1eb-478b-d17e-72320d99eb4f"
      },
      "execution_count": 5,
      "outputs": [
        {
          "output_type": "stream",
          "name": "stdout",
          "text": [
            "User's mobile number is *********\n"
          ]
        }
      ]
    },
    {
      "cell_type": "code",
      "source": [
        "user_name = input(\"Please enter your name: \")\n",
        "\n",
        "while not re.match(\"^[A-Za-z]+$\", user_name):\n",
        "  print(\"Error! Make sure you only use letters in your name\")\n",
        "  user_name = input(\"Please enter your name: \")\n",
        "print(\"Hello! \"+ user_name)"
      ],
      "metadata": {
        "colab": {
          "base_uri": "https://localhost:8080/"
        },
        "id": "rDEzIQZYxSMB",
        "outputId": "9db2ab35-9ef6-4e1c-83dd-fce6c4db664e"
      },
      "execution_count": 6,
      "outputs": [
        {
          "output_type": "stream",
          "name": "stdout",
          "text": [
            "Please enter your name: reza\n",
            "Hello! reza\n"
          ]
        }
      ]
    },
    {
      "cell_type": "code",
      "source": [
        "pip install fuzzywuzzy"
      ],
      "metadata": {
        "colab": {
          "base_uri": "https://localhost:8080/"
        },
        "id": "fby9F7NIxWJf",
        "outputId": "c089c2b7-02e9-4b5d-9095-babed640c7cb"
      },
      "execution_count": 7,
      "outputs": [
        {
          "output_type": "stream",
          "name": "stdout",
          "text": [
            "Collecting fuzzywuzzy\n",
            "  Downloading fuzzywuzzy-0.18.0-py2.py3-none-any.whl (18 kB)\n",
            "Installing collected packages: fuzzywuzzy\n",
            "Successfully installed fuzzywuzzy-0.18.0\n"
          ]
        }
      ]
    },
    {
      "cell_type": "code",
      "source": [
        "from fuzzywuzzy import fuzz"
      ],
      "metadata": {
        "id": "YG_5Cyt7xckE"
      },
      "execution_count": 10,
      "outputs": []
    },
    {
      "cell_type": "code",
      "source": [
        "#Mencari kesamaan antara dua teks\n",
        "text1 = \"The quick brown fox jumps over the lazy dog\"\n",
        "text2 = \"The quick brown fox jumps over the lazy dog.\"\n",
        "\n",
        "similarity = fuzz.ratio(text1, text2)\n",
        "print(similarity)"
      ],
      "metadata": {
        "colab": {
          "base_uri": "https://localhost:8080/"
        },
        "id": "T6RqKkgAxkEt",
        "outputId": "bc5ca84e-565c-4f18-8e27-82859fdbac7b"
      },
      "execution_count": 11,
      "outputs": [
        {
          "output_type": "stream",
          "name": "stdout",
          "text": [
            "99\n"
          ]
        }
      ]
    },
    {
      "cell_type": "code",
      "source": [
        "similarity = fuzz.partial_ratio(text1, text2)\n",
        "print(similarity)"
      ],
      "metadata": {
        "colab": {
          "base_uri": "https://localhost:8080/"
        },
        "id": "i1Bwgi02x6CO",
        "outputId": "adb38323-4790-4954-a685-b9ab217b5b5f"
      },
      "execution_count": 12,
      "outputs": [
        {
          "output_type": "stream",
          "name": "stdout",
          "text": [
            "100\n"
          ]
        }
      ]
    },
    {
      "cell_type": "code",
      "source": [
        "#Mencari kesamaan antara dua teks\n",
        "text1 = \"Ali is my name\"\n",
        "text2 = \"My name is Ali\"\n",
        "\n",
        "print(fuzz.token_sort_ratio(text1, text2))"
      ],
      "metadata": {
        "colab": {
          "base_uri": "https://localhost:8080/"
        },
        "id": "KMqKMrwDx-oj",
        "outputId": "2a04d755-fcf7-432d-ced4-3679435b99fa"
      },
      "execution_count": 13,
      "outputs": [
        {
          "output_type": "stream",
          "name": "stdout",
          "text": [
            "100\n"
          ]
        }
      ]
    },
    {
      "cell_type": "code",
      "source": [
        "#Mencari kesamaan antara dua teks\n",
        "text1 = \"Ali is my name\"\n",
        "text2 = \"My name is Ali Ali\"\n",
        "\n",
        "print(fuzz.token_sort_ratio(text1, text2))"
      ],
      "metadata": {
        "colab": {
          "base_uri": "https://localhost:8080/"
        },
        "id": "4lMJ2BQhyBg7",
        "outputId": "d58ce285-2ace-4044-a7cb-70a38ee1f07e"
      },
      "execution_count": 14,
      "outputs": [
        {
          "output_type": "stream",
          "name": "stdout",
          "text": [
            "88\n"
          ]
        }
      ]
    },
    {
      "cell_type": "code",
      "source": [
        "print(fuzz.token_set_ratio(text1, text2))"
      ],
      "metadata": {
        "colab": {
          "base_uri": "https://localhost:8080/"
        },
        "id": "027AHYJEyEOi",
        "outputId": "0033fd9b-a68a-41cb-d711-5ac2e4fb71a5"
      },
      "execution_count": 15,
      "outputs": [
        {
          "output_type": "stream",
          "name": "stdout",
          "text": [
            "100\n"
          ]
        }
      ]
    },
    {
      "cell_type": "code",
      "source": [
        "from fuzzywuzzy import process"
      ],
      "metadata": {
        "id": "WJ_eCwKryIz8"
      },
      "execution_count": 16,
      "outputs": []
    },
    {
      "cell_type": "code",
      "source": [
        "query = \"My name is Ali\"\n",
        "choices = [\"My name Ali\", \"My name is Ali\",\n",
        "            \"My Ali\"]\n",
        "process.extract(query,choices)"
      ],
      "metadata": {
        "colab": {
          "base_uri": "https://localhost:8080/"
        },
        "id": "sVNT1PcJyN8v",
        "outputId": "26275ec4-959e-4efa-e2bd-c160a9fb6490"
      },
      "execution_count": 17,
      "outputs": [
        {
          "output_type": "execute_result",
          "data": {
            "text/plain": [
              "[('My name is Ali', 100), ('My name Ali', 95), ('My Ali', 86)]"
            ]
          },
          "metadata": {},
          "execution_count": 17
        }
      ]
    },
    {
      "cell_type": "code",
      "source": [
        "import pandas as pd"
      ],
      "metadata": {
        "id": "EzhJsUfOyPlg"
      },
      "execution_count": 18,
      "outputs": []
    },
    {
      "cell_type": "code",
      "source": [
        "#Creating dataframe\n",
        "data_1 = {\n",
        "  \"country\": [\"England\", \"Scotland\", \"Wales\", \"United Kingdom\", \"Northern Ireland\"],\n",
        "  \"GDP_per_capita\": [55.98, 5.45, 3.14, 67.33, 1.89]\n",
        "}\n",
        "\n",
        "data_2 = {\n",
        "  \"country\": [\"Northern Iland\", \"Englnd\", \"Wles\", \"Scotlnd\", \"United K.\"],\n",
        "  \"GDP_per_capita\": [24900, 23882, 37460, 45101, 46510.20]\n",
        "}\n",
        "existing_data = pd.DataFrame(data_1)\n",
        "exported_data = pd.DataFrame(data_2)\n",
        "\n",
        "print(existing_data, exported_data, sep=\"\\n\\n\")"
      ],
      "metadata": {
        "colab": {
          "base_uri": "https://localhost:8080/"
        },
        "id": "aV-F8bH9ySvP",
        "outputId": "b677e24f-5589-4337-a610-ddbc0b314cb4"
      },
      "execution_count": 19,
      "outputs": [
        {
          "output_type": "stream",
          "name": "stdout",
          "text": [
            "            country  GDP_per_capita\n",
            "0           England           55.98\n",
            "1          Scotland            5.45\n",
            "2             Wales            3.14\n",
            "3    United Kingdom           67.33\n",
            "4  Northern Ireland            1.89\n",
            "\n",
            "          country  GDP_per_capita\n",
            "0  Northern Iland         24900.0\n",
            "1          Englnd         23882.0\n",
            "2            Wles         37460.0\n",
            "3         Scotlnd         45101.0\n",
            "4       United K.         46510.2\n"
          ]
        }
      ]
    },
    {
      "cell_type": "code",
      "source": [
        "data = pd.merge(existing_data, exported_data, on=\"country\", how=\"left\")\n",
        "print(data.head())"
      ],
      "metadata": {
        "colab": {
          "base_uri": "https://localhost:8080/"
        },
        "id": "xbDbtWT-yU9Z",
        "outputId": "1937144d-c783-4556-e75f-371af1c6d909"
      },
      "execution_count": 20,
      "outputs": [
        {
          "output_type": "stream",
          "name": "stdout",
          "text": [
            "            country  GDP_per_capita_x  GDP_per_capita_y\n",
            "0           England             55.98               NaN\n",
            "1          Scotland              5.45               NaN\n",
            "2             Wales              3.14               NaN\n",
            "3    United Kingdom             67.33               NaN\n",
            "4  Northern Ireland              1.89               NaN\n"
          ]
        }
      ]
    },
    {
      "cell_type": "code",
      "source": [
        "#Rename mispelled columns\n",
        "exported_data[\"country\"] = exported_data[\"country\"].apply(\n",
        "  lambda x: process.extractOne(x, existing_data[\"country\"], scorer=fuzz.partial_ratio)[0]\n",
        ")\n",
        "\n",
        "#Attempt to join the two dataframe\n",
        "data = pd.merge(existing_data, exported_data, on=\"country\", how=\"left\")\n",
        "print(data.head())"
      ],
      "metadata": {
        "colab": {
          "base_uri": "https://localhost:8080/"
        },
        "id": "7iuJRA5byXhx",
        "outputId": "d1c29284-8f9d-4e9d-9289-34a47f249416"
      },
      "execution_count": 23,
      "outputs": [
        {
          "output_type": "stream",
          "name": "stdout",
          "text": [
            "            country  GDP_per_capita_x  GDP_per_capita_y\n",
            "0           England             55.98           23882.0\n",
            "1          Scotland              5.45           45101.0\n",
            "2             Wales              3.14           37460.0\n",
            "3    United Kingdom             67.33           46510.2\n",
            "4  Northern Ireland              1.89           24900.0\n"
          ]
        }
      ]
    },
    {
      "cell_type": "code",
      "source": [
        "from textblob import TextBlob"
      ],
      "metadata": {
        "id": "lNi5x4YjyaNS"
      },
      "execution_count": 24,
      "outputs": []
    },
    {
      "cell_type": "code",
      "source": [
        "text_1 = \"The movie was so awesome.\"\n",
        "text_2 = \"The food here tastes terrible.\"\n",
        "\n",
        "#Determining the Polarity\n",
        "p_1 = TextBlob(text_1).sentiment.polarity\n",
        "p_2 = TextBlob(text_2).sentiment.polarity\n",
        "\n",
        "#Determining the subjectivity\n",
        "s_1 = TextBlob(text_1).sentiment.subjectivity\n",
        "s_2 = TextBlob(text_2).sentiment.subjectivity\n",
        "\n",
        "print(\"Polarity of Text 1 is\", p_1)\n",
        "print(\"Polarity of Text 2 is\", p_2)\n",
        "print(\"Subjectivity of Text 1 is\", s_1)\n",
        "print(\"Subjectivity of Text 2 is\", s_2)"
      ],
      "metadata": {
        "colab": {
          "base_uri": "https://localhost:8080/"
        },
        "id": "tk8M7ri-y8Yz",
        "outputId": "4d7e1fd1-c17e-46fc-bd31-c7489967f51c"
      },
      "execution_count": 25,
      "outputs": [
        {
          "output_type": "stream",
          "name": "stdout",
          "text": [
            "Polarity of Text 1 is 1.0\n",
            "Polarity of Text 2 is -1.0\n",
            "Subjectivity of Text 1 is 1.0\n",
            "Subjectivity of Text 2 is 1.0\n"
          ]
        }
      ]
    },
    {
      "cell_type": "code",
      "source": [
        "pip install vaderSentiment"
      ],
      "metadata": {
        "colab": {
          "base_uri": "https://localhost:8080/"
        },
        "id": "MuqByip7y99c",
        "outputId": "99498607-2631-4b54-ff81-48ce7cabec19"
      },
      "execution_count": 26,
      "outputs": [
        {
          "output_type": "stream",
          "name": "stdout",
          "text": [
            "Collecting vaderSentiment\n",
            "  Downloading vaderSentiment-3.3.2-py2.py3-none-any.whl (125 kB)\n",
            "\u001b[?25l     \u001b[90m━━━━━━━━━━━━━━━━━━━━━━━━━━━━━━━━━━━━━━━━\u001b[0m \u001b[32m0.0/126.0 kB\u001b[0m \u001b[31m?\u001b[0m eta \u001b[36m-:--:--\u001b[0m\r\u001b[2K     \u001b[91m━━━━━━━━━━━━━━━━━━━━━━━━━━━━━━━━━━━\u001b[0m\u001b[91m╸\u001b[0m\u001b[90m━━━━\u001b[0m \u001b[32m112.6/126.0 kB\u001b[0m \u001b[31m3.1 MB/s\u001b[0m eta \u001b[36m0:00:01\u001b[0m\r\u001b[2K     \u001b[90m━━━━━━━━━━━━━━━━━━━━━━━━━━━━━━━━━━━━━━━━\u001b[0m \u001b[32m126.0/126.0 kB\u001b[0m \u001b[31m2.7 MB/s\u001b[0m eta \u001b[36m0:00:00\u001b[0m\n",
            "\u001b[?25hRequirement already satisfied: requests in /usr/local/lib/python3.10/dist-packages (from vaderSentiment) (2.31.0)\n",
            "Requirement already satisfied: charset-normalizer<4,>=2 in /usr/local/lib/python3.10/dist-packages (from requests->vaderSentiment) (3.3.2)\n",
            "Requirement already satisfied: idna<4,>=2.5 in /usr/local/lib/python3.10/dist-packages (from requests->vaderSentiment) (3.7)\n",
            "Requirement already satisfied: urllib3<3,>=1.21.1 in /usr/local/lib/python3.10/dist-packages (from requests->vaderSentiment) (2.0.7)\n",
            "Requirement already satisfied: certifi>=2017.4.17 in /usr/local/lib/python3.10/dist-packages (from requests->vaderSentiment) (2024.7.4)\n",
            "Installing collected packages: vaderSentiment\n",
            "Successfully installed vaderSentiment-3.3.2\n"
          ]
        }
      ]
    },
    {
      "cell_type": "code",
      "source": [
        "from vaderSentiment.vaderSentiment import SentimentIntensityAnalyzer\n",
        "sentiment = SentimentIntensityAnalyzer()\n",
        "text_1 = \"The book was a perfect balance between writting style and plot.\"\n",
        "text_2 = \"The pizza tastes terrible.\"\n",
        "sent_1 = sentiment.polarity_scores(text_1)\n",
        "sent_2 = sentiment.polarity_scores(text_2)\n",
        "\n",
        "print(\"Sentiment of Text 1:\", sent_1)\n",
        "print(\"Sentiment of Text 2:\", sent_2)"
      ],
      "metadata": {
        "colab": {
          "base_uri": "https://localhost:8080/"
        },
        "id": "LClzvZbbzCbh",
        "outputId": "d7a9e0e3-7669-4b62-cd11-9cccd5c9ceb6"
      },
      "execution_count": 27,
      "outputs": [
        {
          "output_type": "stream",
          "name": "stdout",
          "text": [
            "Sentiment of Text 1: {'neg': 0.0, 'neu': 0.73, 'pos': 0.27, 'compound': 0.5719}\n",
            "Sentiment of Text 2: {'neg': 0.508, 'neu': 0.492, 'pos': 0.0, 'compound': -0.4767}\n"
          ]
        }
      ]
    },
    {
      "cell_type": "code",
      "source": [
        "import spacy\n",
        "from spacy import displacy\n",
        "\n",
        "NER = spacy.load(\"en_core_web_sm\")\n",
        "raw_text_1 = \"Mars is the fourth planet from the Sun, and the seventh largest. It’s the only planet we know of inhabited entirely by robots.\"\n",
        "raw_text_2 = \"Indonesia is the world's largest archipelagic state and the 14th-largest country by area, at 1,904,569 square kilometres (735,358 square miles).\"\n",
        "\n",
        "text1 = NER(raw_text_1)\n",
        "text2 = NER(raw_text_2)"
      ],
      "metadata": {
        "id": "ihY4B2cwzF2Q"
      },
      "execution_count": 29,
      "outputs": []
    },
    {
      "cell_type": "code",
      "source": [
        "for word in text1.ents:\n",
        "  print(word.text, word.label_)"
      ],
      "metadata": {
        "colab": {
          "base_uri": "https://localhost:8080/"
        },
        "id": "Q0fP06ryzMDQ",
        "outputId": "82ec4170-31ab-4114-8c6a-b1beb5f397ac"
      },
      "execution_count": 30,
      "outputs": [
        {
          "output_type": "stream",
          "name": "stdout",
          "text": [
            "Mars LOC\n",
            "fourth ORDINAL\n",
            "Sun LOC\n",
            "seventh ORDINAL\n"
          ]
        }
      ]
    },
    {
      "cell_type": "code",
      "source": [
        "for word in text2.ents:\n",
        "  print(word.text, word.label_)"
      ],
      "metadata": {
        "colab": {
          "base_uri": "https://localhost:8080/"
        },
        "id": "FrhspKgIzZ6i",
        "outputId": "f5daa44f-af29-439e-ce28-3f50e4a5fb1b"
      },
      "execution_count": 31,
      "outputs": [
        {
          "output_type": "stream",
          "name": "stdout",
          "text": [
            "Indonesia GPE\n",
            "14th ORDINAL\n",
            "1,904,569 square kilometres QUANTITY\n",
            "735,358 square miles QUANTITY\n"
          ]
        }
      ]
    },
    {
      "cell_type": "code",
      "source": [
        "displacy.render(text1, style=\"ent\", jupyter=True)"
      ],
      "metadata": {
        "colab": {
          "base_uri": "https://localhost:8080/",
          "height": 52
        },
        "id": "q3NHbqQuzdQK",
        "outputId": "51740941-33c2-4c71-e46d-79a7675819ae"
      },
      "execution_count": 32,
      "outputs": [
        {
          "output_type": "display_data",
          "data": {
            "text/plain": [
              "<IPython.core.display.HTML object>"
            ],
            "text/html": [
              "<span class=\"tex2jax_ignore\"><div class=\"entities\" style=\"line-height: 2.5; direction: ltr\">\n",
              "<mark class=\"entity\" style=\"background: #ff9561; padding: 0.45em 0.6em; margin: 0 0.25em; line-height: 1; border-radius: 0.35em;\">\n",
              "    Mars\n",
              "    <span style=\"font-size: 0.8em; font-weight: bold; line-height: 1; border-radius: 0.35em; vertical-align: middle; margin-left: 0.5rem\">LOC</span>\n",
              "</mark>\n",
              " is the \n",
              "<mark class=\"entity\" style=\"background: #e4e7d2; padding: 0.45em 0.6em; margin: 0 0.25em; line-height: 1; border-radius: 0.35em;\">\n",
              "    fourth\n",
              "    <span style=\"font-size: 0.8em; font-weight: bold; line-height: 1; border-radius: 0.35em; vertical-align: middle; margin-left: 0.5rem\">ORDINAL</span>\n",
              "</mark>\n",
              " planet from the \n",
              "<mark class=\"entity\" style=\"background: #ff9561; padding: 0.45em 0.6em; margin: 0 0.25em; line-height: 1; border-radius: 0.35em;\">\n",
              "    Sun\n",
              "    <span style=\"font-size: 0.8em; font-weight: bold; line-height: 1; border-radius: 0.35em; vertical-align: middle; margin-left: 0.5rem\">LOC</span>\n",
              "</mark>\n",
              ", and the \n",
              "<mark class=\"entity\" style=\"background: #e4e7d2; padding: 0.45em 0.6em; margin: 0 0.25em; line-height: 1; border-radius: 0.35em;\">\n",
              "    seventh\n",
              "    <span style=\"font-size: 0.8em; font-weight: bold; line-height: 1; border-radius: 0.35em; vertical-align: middle; margin-left: 0.5rem\">ORDINAL</span>\n",
              "</mark>\n",
              " largest. It’s the only planet we know of inhabited entirely by robots.</div></span>"
            ]
          },
          "metadata": {}
        }
      ]
    },
    {
      "cell_type": "code",
      "source": [],
      "metadata": {
        "id": "y75_CjN6zfac"
      },
      "execution_count": null,
      "outputs": []
    }
  ]
}